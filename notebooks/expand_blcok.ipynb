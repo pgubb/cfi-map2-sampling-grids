{
 "cells": [
  {
   "cell_type": "code",
   "execution_count": 26,
   "metadata": {},
   "outputs": [
    {
     "data": {
      "text/html": [
       "\n",
       "            <style>\n",
       "                .geemap-dark {\n",
       "                    --jp-widgets-color: white;\n",
       "                    --jp-widgets-label-color: white;\n",
       "                    --jp-ui-font-color1: white;\n",
       "                    --jp-layout-color2: #454545;\n",
       "                    background-color: #383838;\n",
       "                }\n",
       "                    \n",
       "                .geemap-dark .jupyter-button {\n",
       "                    --jp-layout-color3: #383838;\n",
       "                }\n",
       "                \n",
       "                .geemap-colab {\n",
       "                    background-color: var(--colab-primary-surface-color, white);\n",
       "                }\n",
       "                    \n",
       "                .geemap-colab .jupyter-button {\n",
       "                    --jp-layout-color3: var(--colab-primary-surface-color, white);\n",
       "                }\n",
       "            </style>\n",
       "            "
      ],
      "text/plain": [
       "<IPython.core.display.HTML object>"
      ]
     },
     "metadata": {},
     "output_type": "display_data"
    },
    {
     "ename": "ImportError",
     "evalue": "cannot import name 'expand_network' from 'utils' (/Users/paulgubbins/Documents/Github/cfi-map2-grids-ee/notebooks/utils.py)",
     "output_type": "error",
     "traceback": [
      "\u001b[0;31m---------------------------------------------------------------------------\u001b[0m",
      "\u001b[0;31mImportError\u001b[0m                               Traceback (most recent call last)",
      "Cell \u001b[0;32mIn[26], line 51\u001b[0m\n\u001b[1;32m     47\u001b[0m \u001b[38;5;28;01mimport\u001b[39;00m \u001b[38;5;21;01mrioxarray\u001b[39;00m  \u001b[38;5;66;03m# noqa: F401 # Its necesary for xarray.open_mfdataset() with engine `rasterio`\u001b[39;00m\n\u001b[1;32m     50\u001b[0m \u001b[38;5;66;03m# The following is not a package. It is a file utils.py which should be in the same folder as this notebook.\u001b[39;00m\n\u001b[0;32m---> 51\u001b[0m \u001b[38;5;28;01mfrom\u001b[39;00m \u001b[38;5;21;01mutils\u001b[39;00m \u001b[38;5;28;01mimport\u001b[39;00m (\n\u001b[1;32m     52\u001b[0m     get_adjacent_blocks, \n\u001b[1;32m     53\u001b[0m     get_new_adjacent_blocks,\n\u001b[1;32m     54\u001b[0m     plot_block_and_adjacent, \n\u001b[1;32m     55\u001b[0m     expand_network\n\u001b[1;32m     56\u001b[0m )\n",
      "\u001b[0;31mImportError\u001b[0m: cannot import name 'expand_network' from 'utils' (/Users/paulgubbins/Documents/Github/cfi-map2-grids-ee/notebooks/utils.py)"
     ]
    }
   ],
   "source": [
    "\n",
    "# Google earth engine\n",
    "import ee\n",
    "# Authenticate and initialize Earth Engine API\n",
    "#ee.Authenticate()  # Only required once\n",
    "ee.Initialize(\n",
    "      opt_url='https://earthengine-highvolume.googleapis.com'\n",
    ")\n",
    "\n",
    "# Built-in modules\n",
    "import os\n",
    "import subprocess\n",
    "from pathlib import Path\n",
    "import datetime\n",
    "from datetime import date\n",
    "from urllib.request import urlopen\n",
    "from typing import Any, Optional, Tuple\n",
    "\n",
    "# Basics of Python data handling and visualization\n",
    "import math\n",
    "import pandas as pd\n",
    "import numpy as np\n",
    "\n",
    "# Visualization\n",
    "import matplotlib.pyplot as plt\n",
    "\n",
    "# Geospatial\n",
    "import geemap\n",
    "import geopandas as gpd\n",
    "from shapely import wkt\n",
    "from shapely.geometry import (\n",
    "    shape,\n",
    "    Point,\n",
    "    LineString,\n",
    "    Polygon,\n",
    "    MultiPoint,\n",
    "    MultiLineString,\n",
    "    MultiPolygon\n",
    ")\n",
    "from shapely.validation import make_valid\n",
    "import geojson\n",
    "import folium\n",
    "from geopy.distance import great_circle\n",
    "from gadm import GADMDownloader\n",
    "import rasterio\n",
    "from rasterio import plot\n",
    "import xarray as xr  # It may need Dask library https://docs.dask.org/en/stable/install.html\n",
    "import rioxarray  # noqa: F401 # Its necesary for xarray.open_mfdataset() with engine `rasterio`\n",
    "\n",
    "\n",
    "# The following is not a package. It is a file utils.py which should be in the same folder as this notebook.\n",
    "from utils import (\n",
    "    get_adjacent_blocks, \n",
    "    get_new_adjacent_blocks,\n",
    "    plot_block_and_adjacent, \n",
    "    expand_network\n",
    ")\n"
   ]
  },
  {
   "cell_type": "code",
   "execution_count": 2,
   "metadata": {},
   "outputs": [
    {
     "data": {
      "text/html": [
       "\n",
       "            <style>\n",
       "                .geemap-dark {\n",
       "                    --jp-widgets-color: white;\n",
       "                    --jp-widgets-label-color: white;\n",
       "                    --jp-ui-font-color1: white;\n",
       "                    --jp-layout-color2: #454545;\n",
       "                    background-color: #383838;\n",
       "                }\n",
       "                    \n",
       "                .geemap-dark .jupyter-button {\n",
       "                    --jp-layout-color3: #383838;\n",
       "                }\n",
       "                \n",
       "                .geemap-colab {\n",
       "                    background-color: var(--colab-primary-surface-color, white);\n",
       "                }\n",
       "                    \n",
       "                .geemap-colab .jupyter-button {\n",
       "                    --jp-layout-color3: var(--colab-primary-surface-color, white);\n",
       "                }\n",
       "            </style>\n",
       "            "
      ],
      "text/plain": [
       "<IPython.core.display.HTML object>"
      ]
     },
     "metadata": {},
     "output_type": "display_data"
    }
   ],
   "source": [
    "# GLOBAL PARAMS:\n",
    "\n",
    "# Country: Select one of: [\"Brazil\", \"India\", \"Indonesia\", \"Ethiopia\", \"Nigeria\"]\n",
    "COUNTRY = \"Nigeria\"\n",
    "\n",
    "# FILE PATHS (GLOBALS)\n",
    "cdir = os.getcwd()\n",
    "pdir = os.path.dirname(cdir)\n",
    "OUTPUTS_FOLDER = os.path.join(pdir, \"outputs\", COUNTRY)"
   ]
  },
  {
   "cell_type": "code",
   "execution_count": 9,
   "metadata": {},
   "outputs": [
    {
     "data": {
      "text/html": [
       "\n",
       "            <style>\n",
       "                .geemap-dark {\n",
       "                    --jp-widgets-color: white;\n",
       "                    --jp-widgets-label-color: white;\n",
       "                    --jp-ui-font-color1: white;\n",
       "                    --jp-layout-color2: #454545;\n",
       "                    background-color: #383838;\n",
       "                }\n",
       "                    \n",
       "                .geemap-dark .jupyter-button {\n",
       "                    --jp-layout-color3: #383838;\n",
       "                }\n",
       "                \n",
       "                .geemap-colab {\n",
       "                    background-color: var(--colab-primary-surface-color, white);\n",
       "                }\n",
       "                    \n",
       "                .geemap-colab .jupyter-button {\n",
       "                    --jp-layout-color3: var(--colab-primary-surface-color, white);\n",
       "                }\n",
       "            </style>\n",
       "            "
      ],
      "text/plain": [
       "<IPython.core.display.HTML object>"
      ]
     },
     "metadata": {},
     "output_type": "display_data"
    }
   ],
   "source": [
    "# Open sampling grid for selected country\n",
    "\n",
    "file = os.path.join(OUTPUTS_FOLDER, \"final_sampling_grid.geojson\")\n",
    "# Convert to geopandas dataframe\n",
    "sampling_grid = gpd.read_file(file)\n",
    "# Select only blocks in sample \n",
    "initial_sample = sampling_grid[sampling_grid['in_sample'] == 1]\n"
   ]
  },
  {
   "cell_type": "code",
   "execution_count": 17,
   "metadata": {},
   "outputs": [
    {
     "data": {
      "text/html": [
       "\n",
       "            <style>\n",
       "                .geemap-dark {\n",
       "                    --jp-widgets-color: white;\n",
       "                    --jp-widgets-label-color: white;\n",
       "                    --jp-ui-font-color1: white;\n",
       "                    --jp-layout-color2: #454545;\n",
       "                    background-color: #383838;\n",
       "                }\n",
       "                    \n",
       "                .geemap-dark .jupyter-button {\n",
       "                    --jp-layout-color3: #383838;\n",
       "                }\n",
       "                \n",
       "                .geemap-colab {\n",
       "                    background-color: var(--colab-primary-surface-color, white);\n",
       "                }\n",
       "                    \n",
       "                .geemap-colab .jupyter-button {\n",
       "                    --jp-layout-color3: var(--colab-primary-surface-color, white);\n",
       "                }\n",
       "            </style>\n",
       "            "
      ],
      "text/plain": [
       "<IPython.core.display.HTML object>"
      ]
     },
     "metadata": {},
     "output_type": "display_data"
    },
    {
     "name": "stdout",
     "output_type": "stream",
     "text": [
      "Blocks adjacent to 5157: ['4974' '4975' '4976' '5156' '5158' '5338' '5339' '5340']\n"
     ]
    },
    {
     "data": {
      "image/png": "[encoded data removed]",
      "text/plain": [
       "<Figure size 1000x1000 with 1 Axes>"
      ]
     },
     "metadata": {},
     "output_type": "display_data"
    }
   ],
   "source": [
    "# Testing functions that plot the block and its adjacent blocks\n",
    "\n",
    "# Randomly select N rows from the built_blocks_gdf dataframe\n",
    "from numpy.random import RandomState\n",
    "prng = RandomState(1234567890)\n",
    "\n",
    "# Randomly select a single block (the origin) from the initial sample\n",
    "origin_block_id = initial_sample.sample(n=1, random_state=prng)['block_id'].values[0]\n",
    "\n",
    "# Return a list of all adjacent blocks to the selected block\n",
    "adjacent_blocks_list = get_adjacent_blocks(origin_block_id, sampling_grid)['block_id'].values\n",
    "print(f\"Blocks adjacent to {origin_block_id}: {adjacent_blocks_list}\")\n",
    "\n",
    "# Plot the block and its adjacent blocks\n",
    "plot_block_and_adjacent(origin_block_id, sampling_grid)\n"
   ]
  },
  {
   "cell_type": "code",
   "execution_count": 20,
   "metadata": {},
   "outputs": [
    {
     "data": {
      "text/html": [
       "\n",
       "            <style>\n",
       "                .geemap-dark {\n",
       "                    --jp-widgets-color: white;\n",
       "                    --jp-widgets-label-color: white;\n",
       "                    --jp-ui-font-color1: white;\n",
       "                    --jp-layout-color2: #454545;\n",
       "                    background-color: #383838;\n",
       "                }\n",
       "                    \n",
       "                .geemap-dark .jupyter-button {\n",
       "                    --jp-layout-color3: #383838;\n",
       "                }\n",
       "                \n",
       "                .geemap-colab {\n",
       "                    background-color: var(--colab-primary-surface-color, white);\n",
       "                }\n",
       "                    \n",
       "                .geemap-colab .jupyter-button {\n",
       "                    --jp-layout-color3: var(--colab-primary-surface-color, white);\n",
       "                }\n",
       "            </style>\n",
       "            "
      ],
      "text/plain": [
       "<IPython.core.display.HTML object>"
      ]
     },
     "metadata": {},
     "output_type": "display_data"
    },
    {
     "data": {
      "text/plain": [
       "<Axes: >"
      ]
     },
     "execution_count": 20,
     "metadata": {},
     "output_type": "execute_result"
    },
    {
     "data": {
      "image/png": "[encoded data removed]",
      "text/plain": [
       "<Figure size 1000x1000 with 1 Axes>"
      ]
     },
     "metadata": {},
     "output_type": "display_data"
    }
   ],
   "source": [
    "# Return adjancet blocks in a second expansion\n",
    "\n",
    "origin_gdf = sampling_grid[sampling_grid['block_id'] == origin_block_id]\n",
    "adjacent_blocks_gdf = get_adjacent_blocks(origin_block_id, sampling_grid)\n",
    "network = pd.concat([origin_gdf, adjacent_blocks_gdf])\n",
    "\n",
    "edge_block_id = '4974'\n",
    "new_adjacenet_blocks_gdf = get_new_adjacent_blocks(edge_block_id, network, sampling_grid)\n",
    "new_network = pd.concat([network, new_adjacenet_blocks_gdf])\n",
    "\n",
    "# Plot the network\n",
    "fig, ax = plt.subplots(figsize=(10, 10))\n",
    "# Plot the block\n",
    "origin_gdf.boundary.plot(ax=ax, color=\"green\", linewidth = 1.75, aspect = 1)\n",
    "# Plot the adjacent blocks\n",
    "adjacent_blocks_gdf.boundary.plot(ax=ax, color=\"orange\", linewidth = 0.75)\n",
    "# Plot the new adjacent blocks\n",
    "new_adjacenet_blocks_gdf.boundary.plot(ax=ax, color=\"red\", linewidth = 0.75)"
   ]
  },
  {
   "cell_type": "code",
   "execution_count": 21,
   "metadata": {},
   "outputs": [
    {
     "data": {
      "text/html": [
       "\n",
       "            <style>\n",
       "                .geemap-dark {\n",
       "                    --jp-widgets-color: white;\n",
       "                    --jp-widgets-label-color: white;\n",
       "                    --jp-ui-font-color1: white;\n",
       "                    --jp-layout-color2: #454545;\n",
       "                    background-color: #383838;\n",
       "                }\n",
       "                    \n",
       "                .geemap-dark .jupyter-button {\n",
       "                    --jp-layout-color3: #383838;\n",
       "                }\n",
       "                \n",
       "                .geemap-colab {\n",
       "                    background-color: var(--colab-primary-surface-color, white);\n",
       "                }\n",
       "                    \n",
       "                .geemap-colab .jupyter-button {\n",
       "                    --jp-layout-color3: var(--colab-primary-surface-color, white);\n",
       "                }\n",
       "            </style>\n",
       "            "
      ],
      "text/plain": [
       "<IPython.core.display.HTML object>"
      ]
     },
     "metadata": {},
     "output_type": "display_data"
    },
    {
     "data": {
      "application/vnd.jupyter.widget-view+json": {
       "model_id": "6e122ca752ef4a87bda5c51b338a919d",
       "version_major": 2,
       "version_minor": 0
      },
      "text/plain": [
       "Map(center=[6.462125498222141, 3.3896724977096016], controls=(WidgetControl(options=['position', 'transparent_…"
      ]
     },
     "execution_count": 21,
     "metadata": {},
     "output_type": "execute_result"
    }
   ],
   "source": [
    "####################################################################\n",
    "# VISUALIZE NETWORK\n",
    "###################################################################\n",
    "\n",
    "# Converting assets to ee objects\n",
    "origin_ee = geemap.gdf_to_ee(origin_gdf)\n",
    "adjacent_blocks_ee = geemap.gdf_to_ee(adjacent_blocks_gdf)\n",
    "new_adjacenet_blocks_ee = geemap.gdf_to_ee(new_adjacenet_blocks_gdf)\n",
    "network_ee = geemap.gdf_to_ee(new_network)\n",
    "\n",
    "m = geemap.Map()\n",
    "m.centerObject(network_ee, 14)\n",
    "\n",
    "########################\n",
    "# BLOCK NETWORK\n",
    "########################\n",
    "\n",
    "# Add origin block to the map\n",
    "m.add_layer(origin_ee, {'color': 'green', \"width\": 2}, \"Origin block\")\n",
    "m.add_layer(adjacent_blocks_ee, {'color': 'orange', \"width\": 2}, \"1st expansion\")\n",
    "m.add_layer(new_adjacenet_blocks_ee, {'color': 'red', \"width\": 2}, \"2nd expansion\")\n",
    "\n",
    "m"
   ]
  }
 ],
 "metadata": {
  "kernelspec": {
   "display_name": "eegrid",
   "language": "python",
   "name": "python3"
  },
  "language_info": {
   "codemirror_mode": {
    "name": "ipython",
    "version": 3
   },
   "file_extension": ".py",
   "mimetype": "text/x-python",
   "name": "python",
   "nbconvert_exporter": "python",
   "pygments_lexer": "ipython3",
   "version": "3.12.2"
  }
 },
 "nbformat": 4,
 "nbformat_minor": 2
}
